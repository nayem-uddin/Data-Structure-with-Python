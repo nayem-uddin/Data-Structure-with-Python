{
  "nbformat": 4,
  "nbformat_minor": 0,
  "metadata": {
    "colab": {
      "provenance": [],
      "authorship_tag": "ABX9TyPg/6xzaUgWJx5zqOgcIsAU",
      "include_colab_link": true
    },
    "kernelspec": {
      "name": "python3",
      "display_name": "Python 3"
    },
    "language_info": {
      "name": "python"
    }
  },
  "cells": [
    {
      "cell_type": "markdown",
      "metadata": {
        "id": "view-in-github",
        "colab_type": "text"
      },
      "source": [
        "<a href=\"https://colab.research.google.com/github/nayem-uddin/Data-Structure-with-Python/blob/main/Doubly_Linked_List.ipynb\" target=\"_parent\"><img src=\"https://colab.research.google.com/assets/colab-badge.svg\" alt=\"Open In Colab\"/></a>"
      ]
    },
    {
      "cell_type": "code",
      "execution_count": 1,
      "metadata": {
        "id": "EhC7_7jh4bCd"
      },
      "outputs": [],
      "source": [
        "class node:\n",
        "  def __init__(self,data):\n",
        "    self.data=data\n",
        "    self.prev=None\n",
        "    self.next=None"
      ]
    },
    {
      "cell_type": "code",
      "source": [
        "class DoublyLinkedList:\n",
        "  def __init__(self):\n",
        "    self.head=None\n",
        "    self.tail=None\n",
        "  def forward_traverse(self): # forward traversal operation\n",
        "    n=self.head\n",
        "    while n!=None:\n",
        "      print(n.data,end=' ')\n",
        "      n=n.next\n",
        "    print()\n",
        "  def backward_traverse(self): # backward traversal operation\n",
        "    n=self.tail\n",
        "    while n!=None:\n",
        "      print(n.data,end=' ')\n",
        "      n=n.prev\n",
        "    print()\n",
        "  def insert_head(self,data): # add a new node at the beginning of the linked list\n",
        "    new_node=node(data)\n",
        "    if self.head==None:\n",
        "      self.head= new_node\n",
        "      self.tail=new_node\n",
        "    else:\n",
        "      new_node.next=self.head\n",
        "      self.head.prev=new_node\n",
        "      self.head=new_node\n",
        "  def insert_tail(self,data): # add a new node at the end of the linked list\n",
        "    new_node=node(data)\n",
        "    if self.head==None:\n",
        "      self.head=new_node\n",
        "    else:\n",
        "      new_node.prev=self.tail\n",
        "      self.tail.next=new_node\n",
        "    self.tail=new_node\n",
        "  def add_after(self,data,x): # add a node after the node with the data x\n",
        "    n=self.head\n",
        "    while n!=None:\n",
        "      if n.data==x:\n",
        "        break\n",
        "      n=n.next\n",
        "    if n==None:\n",
        "      print(\"Node not found.\")\n",
        "    else:\n",
        "      new_node=node(data)\n",
        "      new_node.next=n.next\n",
        "      new_node.prev=n\n",
        "      if n.next!=None:\n",
        "        n.next.prev=new_node\n",
        "      n.next=new_node\n",
        "  def add_before(self,data,x): # add a node before the node with the data x\n",
        "    n=self.head\n",
        "    while n!=None:\n",
        "      if n.data==x:\n",
        "        break\n",
        "      n=n.next\n",
        "    if n==None:\n",
        "      print(\"Node not found.\")\n",
        "    else:\n",
        "      new_node=node(data)\n",
        "      new_node.next=n\n",
        "      new_node.prev=n.prev\n",
        "      if n.prev!=None:\n",
        "        n.prev.next=new_node\n",
        "      else:\n",
        "        self.head=new_node\n",
        "      n.prev=new_node\n",
        "  def delete_head(self): # delete the first node\n",
        "    if self.head==None:\n",
        "      print(\"Linked list is empty.\")\n",
        "    elif self.head.next==None:\n",
        "      self.head=None\n",
        "    else:\n",
        "      self.head=self.head.next\n",
        "      self.head.prev=None\n",
        "  def delete_tail(self): # delete the last node\n",
        "    if self.head==None:\n",
        "      print(\"Linked list is empty.\")\n",
        "    elif self.head.next==None:\n",
        "      self.head=None\n",
        "    else:\n",
        "      self.tail=self.tail.prev\n",
        "      self.tail.next=None\n",
        "  def delete_node(self,data): # delete the node with the given data\n",
        "    if self.head==None:\n",
        "      print(\"Linked list is empty.\")\n",
        "    elif self.head.next==None:\n",
        "      if self.head.data==data:\n",
        "        self.head=None\n",
        "      else:\n",
        "        print(\"Node not found.\")\n",
        "    else:\n",
        "      if self.head.data==data:\n",
        "        self.head=self.head.next\n",
        "        self.head.prev=None\n",
        "      else:\n",
        "        n=self.head.next\n",
        "        while n!=None:\n",
        "          if n.data==data:\n",
        "            break\n",
        "          n=n.next\n",
        "        if n==None:\n",
        "          print(\"Node not found.\")\n",
        "        else:\n",
        "          n.prev.next=n.next\n",
        "          if n.next!=None:\n",
        "            n.next.prev=n.prev\n",
        "          else:\n",
        "            self.tail=n.prev\n",
        "\n",
        "\n",
        "ll=DoublyLinkedList()\n",
        "ll.insert_head(30)\n",
        "ll.insert_head(20)\n",
        "ll.insert_head(10)\n",
        "ll.insert_tail(40)\n",
        "ll.insert_tail(50)\n",
        "print(\"Forward traversal:\",end=' ')\n",
        "ll.forward_traverse() # expected output is: 10 20 30 40 50\n",
        "print(\"Backward traversal:\",end=' ')\n",
        "ll.backward_traverse() # expected output is: 50 40 30 20 10"
      ],
      "metadata": {
        "id": "ZT7teyaIVWNl",
        "colab": {
          "base_uri": "https://localhost:8080/"
        },
        "outputId": "bb3cc515-4d67-4795-802a-eaffed84e036"
      },
      "execution_count": 43,
      "outputs": [
        {
          "output_type": "stream",
          "name": "stdout",
          "text": [
            "Forward traversal: 10 20 30 40 50 \n",
            "Backward traversal: 50 40 30 20 10 \n"
          ]
        }
      ]
    },
    {
      "cell_type": "code",
      "source": [
        "ll.add_after(45,40)\n",
        "ll.add_before(25,30)\n",
        "ll.forward_traverse() # expected output is: 10 20 25 30 40 45 50\n",
        "ll.backward_traverse() # expected output is: 50 45 40 30 25 20 10"
      ],
      "metadata": {
        "id": "6wdwDYQxWH30",
        "colab": {
          "base_uri": "https://localhost:8080/"
        },
        "outputId": "a22d81cc-43f0-4547-a5f4-222a9eb33c4e"
      },
      "execution_count": 15,
      "outputs": [
        {
          "output_type": "stream",
          "name": "stdout",
          "text": [
            "10 20 25 30 40 45 50 \n",
            "50 45 40 30 25 20 10 \n"
          ]
        }
      ]
    },
    {
      "cell_type": "code",
      "source": [
        "ll.delete_head()\n",
        "ll.forward_traverse() # expected output is: 20 30 40 50\n",
        "ll.backward_traverse() # expected output is: 50 40 30 20"
      ],
      "metadata": {
        "id": "vtdrkyAtcg56",
        "colab": {
          "base_uri": "https://localhost:8080/"
        },
        "outputId": "1b4705b0-ab64-44f0-931d-36156c473ad3"
      },
      "execution_count": 23,
      "outputs": [
        {
          "output_type": "stream",
          "name": "stdout",
          "text": [
            "20 30 40 50 \n",
            "50 40 30 20 \n"
          ]
        }
      ]
    },
    {
      "cell_type": "code",
      "source": [
        "ll.delete_tail()\n",
        "ll.forward_traverse() # expected output is: 10 20 30 40\n",
        "ll.backward_traverse() # expected output is: 40 30 20 10"
      ],
      "metadata": {
        "colab": {
          "base_uri": "https://localhost:8080/"
        },
        "id": "Ako9jz95WjPN",
        "outputId": "88014578-f60d-4300-b7e6-15c6e4bbe5b4"
      },
      "execution_count": 29,
      "outputs": [
        {
          "output_type": "stream",
          "name": "stdout",
          "text": [
            "10 20 30 40 \n",
            "40 30 20 10 \n"
          ]
        }
      ]
    },
    {
      "cell_type": "code",
      "source": [
        "ll.delete_node(10)\n",
        "ll.delete_node(50)\n",
        "ll.delete_node(30)\n",
        "ll.forward_traverse() # expected output is: 20 40\n",
        "ll.backward_traverse() # expected output is: 40 20\n",
        "ll.delete_node(10) # will show a \"Node not found\" message"
      ],
      "metadata": {
        "colab": {
          "base_uri": "https://localhost:8080/"
        },
        "id": "4BglczyMmb2Q",
        "outputId": "260d0150-65ab-46a3-e3ba-3094b7af92cd"
      },
      "execution_count": 44,
      "outputs": [
        {
          "output_type": "stream",
          "name": "stdout",
          "text": [
            "20 40 \n",
            "40 20 \n",
            "Node not found.\n"
          ]
        }
      ]
    }
  ]
}