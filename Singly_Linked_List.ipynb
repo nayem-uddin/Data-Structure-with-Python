{
  "nbformat": 4,
  "nbformat_minor": 0,
  "metadata": {
    "colab": {
      "provenance": [],
      "authorship_tag": "ABX9TyOYJqzAm3/VVAYHxH4oTqxA",
      "include_colab_link": true
    },
    "kernelspec": {
      "name": "python3",
      "display_name": "Python 3"
    },
    "language_info": {
      "name": "python"
    }
  },
  "cells": [
    {
      "cell_type": "markdown",
      "metadata": {
        "id": "view-in-github",
        "colab_type": "text"
      },
      "source": [
        "<a href=\"https://colab.research.google.com/github/nayem-uddin/Data-Structure-with-Python/blob/main/Singly_Linked_List.ipynb\" target=\"_parent\"><img src=\"https://colab.research.google.com/assets/colab-badge.svg\" alt=\"Open In Colab\"/></a>"
      ]
    },
    {
      "cell_type": "markdown",
      "source": [
        "How to create a singly linked list:\n",
        "1. Create a class for the nodes."
      ],
      "metadata": {
        "id": "285dCLHuQkYd"
      }
    },
    {
      "cell_type": "code",
      "execution_count": 1,
      "metadata": {
        "id": "sKsIodI6QXx4"
      },
      "outputs": [],
      "source": [
        "class Node:\n",
        "  def __init__(self,data):\n",
        "    self.data = data\n",
        "    self.next = None"
      ]
    },
    {
      "cell_type": "markdown",
      "source": [
        "2. Create a class for chaining the nodes, i.e. for the whole linked list. <br>\n"
      ],
      "metadata": {
        "id": "QgjpSpobQ3gm"
      }
    },
    {
      "cell_type": "markdown",
      "source": [
        "The following code is for traversal only. Just traverse and print."
      ],
      "metadata": {
        "id": "A4MY5LJERN8O"
      }
    },
    {
      "cell_type": "code",
      "source": [
        "class LinkedList:\n",
        "  def __init__(self):\n",
        "    self.head = None\n",
        "  def print_LL(self):\n",
        "    if self.head==None:\n",
        "      print(\"Linked list is empty\")\n",
        "    else:\n",
        "      n = self.head # this is optional, just to ease the task; using self.head directly without assigning it to any other variable is also OK\n",
        "      while n!=None:\n",
        "        print(n.data)\n",
        "        n = n.next"
      ],
      "metadata": {
        "id": "l1yp9msKQ0zv"
      },
      "execution_count": null,
      "outputs": []
    },
    {
      "cell_type": "markdown",
      "source": [
        "# Adding a node at the beginning of the linked list\n",
        "To add a new element at the beginning of the linked list, we can execute the following steps:"
      ],
      "metadata": {
        "id": "QOzihX_0RDYW"
      }
    },
    {
      "cell_type": "code",
      "source": [
        "class LinkedList:\n",
        "  def __init__(self):\n",
        "    self.head = None\n",
        "\n",
        "  # for traversing through and printing the nodes\n",
        "  def print_LL(self):\n",
        "    if self.head==None:\n",
        "      # the if-statement is required if you want a message to show up when the user wants to print the linked list while it is empty. Otherwise, only the statements under the else condition will suffice.\n",
        "      print(\"Linked list is empty\")\n",
        "    else:\n",
        "      n = self.head\n",
        "      while n!=None:\n",
        "        print(n.data)\n",
        "        n = n.next\n",
        "\n",
        "  # for adding a new element at the beginning of the linked list\n",
        "  def add_begin(self,data):\n",
        "    new_node = Node(data) # creating the new node to insert at the beginning\n",
        "    new_node.next=self.head # changing the reference of the new node to the reference of the first node (the then \"head\") of the original linked list\n",
        "    self.head = new_node # changing the head value to the value of the new node, as the new node is the first node (head) now\n"
      ],
      "metadata": {
        "id": "XHiRvGl1REDN"
      },
      "execution_count": null,
      "outputs": []
    },
    {
      "cell_type": "code",
      "source": [
        "ll=LinkedList()\n",
        "ll.add_begin(10)\n",
        "ll.add_begin(20)\n",
        "ll.add_begin(30)\n",
        "ll.print_LL()"
      ],
      "metadata": {
        "colab": {
          "base_uri": "https://localhost:8080/"
        },
        "id": "bUX3VFGYRGKG",
        "outputId": "74374963-a849-44e4-bbf5-38f61925b1f4"
      },
      "execution_count": null,
      "outputs": [
        {
          "output_type": "stream",
          "name": "stdout",
          "text": [
            "30\n",
            "20\n",
            "10\n"
          ]
        }
      ]
    },
    {
      "cell_type": "markdown",
      "source": [
        "# Adding a node at the end of the linked list\n"
      ],
      "metadata": {
        "id": "g7PAe-oV9GQ-"
      }
    },
    {
      "cell_type": "code",
      "source": [
        "class LinkedList:\n",
        "  def __init__(self):\n",
        "    self.head = None\n",
        "\n",
        "  # for traversing through and printing the nodes\n",
        "  def print_LL(self):\n",
        "    if self.head==None:\n",
        "      # the if-statement is required if you want a message to show up when the user wants to print the linked list while it is empty. Otherwise, only the statements under the else condition will suffice.\n",
        "      print(\"Linked list is empty\")\n",
        "    else:\n",
        "      n = self.head\n",
        "      while n!=None:\n",
        "        print(n.data)\n",
        "        n = n.next\n",
        "\n",
        "  # for adding a new element at the end of the linked list\n",
        "  def add_end(self,data):\n",
        "    new_node = Node(data)\n",
        "    if self.head==None:\n",
        "      self.head = new_node\n",
        "    else:\n",
        "      n = self.head\n",
        "      while n.next!=None:\n",
        "        n = n.next # traverse through the list until the last element is reached\n",
        "      n.next = new_node"
      ],
      "metadata": {
        "id": "liGUYb2bSngO"
      },
      "execution_count": null,
      "outputs": []
    },
    {
      "cell_type": "code",
      "source": [
        "ll=LinkedList()\n",
        "ll.add_end(10)\n",
        "ll.add_end(20)\n",
        "ll.add_end(30)\n",
        "ll.print_LL()"
      ],
      "metadata": {
        "colab": {
          "base_uri": "https://localhost:8080/"
        },
        "id": "CLYdP1_KA3cX",
        "outputId": "fbe39c77-b7d1-4fdd-d35b-cc6ac09b00a4"
      },
      "execution_count": null,
      "outputs": [
        {
          "output_type": "stream",
          "name": "stdout",
          "text": [
            "10\n",
            "20\n",
            "30\n"
          ]
        }
      ]
    },
    {
      "cell_type": "markdown",
      "source": [
        "# Adding an element after a node\n",
        "The data of a node is given. Insert a defined node after that node."
      ],
      "metadata": {
        "id": "3f5z0cUio1Nd"
      }
    },
    {
      "cell_type": "code",
      "source": [
        "class LinkedList:\n",
        "  def __init__(self):\n",
        "    self.head = None\n",
        "\n",
        "  # for traversing through and printing the nodes\n",
        "  def print_LL(self):\n",
        "    if self.head==None:\n",
        "      # the if-statement is required if you want a message to show up when the user wants to print the linked list while it is empty. Otherwise, only the statements under the else condition will suffice.\n",
        "      print(\"Linked list is empty\")\n",
        "    else:\n",
        "      n = self.head\n",
        "      while n!=None:\n",
        "        print(n.data)\n",
        "        n = n.next\n",
        "\n",
        "  # for adding a new element at the end of the linked list\n",
        "  def add_end(self,data):\n",
        "    new_node = Node(data)\n",
        "    if self.head==None:\n",
        "      self.head = new_node\n",
        "    else:\n",
        "      n = self.head\n",
        "      while n.next!=None:\n",
        "        n = n.next # traverse through the list until the last element is reached\n",
        "      n.next = new_node\n",
        "\n",
        "  def add_after(self,data,x):\n",
        "    n = self.head\n",
        "    while n!=None:\n",
        "      if n.data==x:\n",
        "        break\n",
        "      n=n.next\n",
        "    if n==None:\n",
        "      print(\"Element not found\")\n",
        "    else:\n",
        "      new_node = Node(data)\n",
        "      new_node.next = n.next\n",
        "      n.next = new_node"
      ],
      "metadata": {
        "id": "W1n5muodoFJF"
      },
      "execution_count": null,
      "outputs": []
    },
    {
      "cell_type": "code",
      "source": [
        "ll=LinkedList()\n",
        "ll.add_end(10)\n",
        "ll.add_end(20)\n",
        "ll.add_end(30)\n",
        "ll.add_after(40,20)\n",
        "ll.add_after(50,60)\n",
        "ll.print_LL()"
      ],
      "metadata": {
        "colab": {
          "base_uri": "https://localhost:8080/"
        },
        "id": "4iHh3kANoX5W",
        "outputId": "5bb37aa1-a234-40de-a561-6610ab3e28e1"
      },
      "execution_count": null,
      "outputs": [
        {
          "output_type": "stream",
          "name": "stdout",
          "text": [
            "Element not found\n",
            "10\n",
            "20\n",
            "40\n",
            "30\n"
          ]
        }
      ]
    },
    {
      "cell_type": "markdown",
      "source": [
        "# Adding a node before a node"
      ],
      "metadata": {
        "id": "00gTjoLm26An"
      }
    },
    {
      "cell_type": "code",
      "source": [
        "class LinkedList:\n",
        "  def __init__(self):\n",
        "    self.head = None\n",
        "\n",
        "  # for traversing through and printing the nodes\n",
        "  def print_LL(self):\n",
        "    if self.head==None:\n",
        "      # the if-statement is required if you want a message to show up when the user wants to print the linked list while it is empty. Otherwise, only the statements under the else condition will suffice.\n",
        "      print(\"Linked list is empty\")\n",
        "    else:\n",
        "      n = self.head\n",
        "      while n!=None:\n",
        "        print(n.data)\n",
        "        n = n.next\n",
        "\n",
        "  # for adding a new element at the end of the linked list\n",
        "  def add_end(self,data):\n",
        "    new_node = Node(data)\n",
        "    if self.head==None:\n",
        "      self.head = new_node\n",
        "    else:\n",
        "      n = self.head\n",
        "      while n.next!=None:\n",
        "        n = n.next # traverse through the list until the last element is reached\n",
        "      n.next = new_node\n",
        "\n",
        "  # for adding a new node before a specified node\n",
        "  def add_before(self,data,x):\n",
        "    if self.head==None:\n",
        "      print(\"Linked list is empty\")\n",
        "      return\n",
        "    elif self.head.data==x:\n",
        "      new_node = Node(data)\n",
        "      new_node.next = self.head\n",
        "      self.head = new_node\n",
        "      return\n",
        "    else:\n",
        "      n=self.head\n",
        "      while n.next!=None:\n",
        "        if n.next.data==x:\n",
        "          break\n",
        "        n=n.next\n",
        "      if n.next==None:\n",
        "        print(\"Element not found\")\n",
        "      else:\n",
        "        new_node = Node(data)\n",
        "        new_node.next = n.next\n",
        "        n.next = new_node"
      ],
      "metadata": {
        "id": "-wNJX2DEoom0"
      },
      "execution_count": null,
      "outputs": []
    },
    {
      "cell_type": "code",
      "source": [
        "ll=LinkedList()\n",
        "ll.add_end(10)\n",
        "ll.add_end(20)\n",
        "ll.add_end(30)\n",
        "ll.add_before(40,20)\n",
        "ll.add_before(50,60)\n",
        "ll.print_LL()"
      ],
      "metadata": {
        "colab": {
          "base_uri": "https://localhost:8080/"
        },
        "id": "CbSEJsrp3fa3",
        "outputId": "96290aac-719f-46ff-b1b8-bf6d369d06dc"
      },
      "execution_count": null,
      "outputs": [
        {
          "output_type": "stream",
          "name": "stdout",
          "text": [
            "Element not found\n",
            "10\n",
            "40\n",
            "20\n",
            "30\n"
          ]
        }
      ]
    },
    {
      "cell_type": "markdown",
      "source": [
        "# Deleting the first node of the linked list"
      ],
      "metadata": {
        "id": "BsJSWhey1JM4"
      }
    },
    {
      "cell_type": "code",
      "source": [
        "class LinkedList:\n",
        "  def __init__(self):\n",
        "    self.head = None\n",
        "\n",
        "  # for traversing through and printing the nodes\n",
        "  def print_LL(self):\n",
        "    if self.head==None:\n",
        "      # the if-statement is required if you want a message to show up when the user wants to print the linked list while it is empty. Otherwise, only the statements under the else condition will suffice.\n",
        "      print(\"Linked list is empty\")\n",
        "    else:\n",
        "      n = self.head\n",
        "      while n!=None:\n",
        "        print(n.data)\n",
        "        n = n.next\n",
        "\n",
        "  # for adding a new element at the end of the linked list\n",
        "  def add_end(self,data):\n",
        "    new_node = Node(data)\n",
        "    if self.head==None:\n",
        "      self.head = new_node\n",
        "    else:\n",
        "      n = self.head\n",
        "      while n.next!=None:\n",
        "        n = n.next # traverse through the list until the last element is reached\n",
        "      n.next = new_node\n",
        "\n",
        "  # for deleting head\n",
        "  def delete_head(self):\n",
        "    if self.head==None:\n",
        "      print(\"Linked list is empty\")\n",
        "    else:\n",
        "      self.head = self.head.next"
      ],
      "metadata": {
        "id": "lTVnI6Ke353G"
      },
      "execution_count": null,
      "outputs": []
    },
    {
      "cell_type": "code",
      "source": [
        "ll=LinkedList()\n",
        "ll.add_end(10)\n",
        "ll.add_end(20)\n",
        "ll.add_end(30)\n",
        "ll.delete_head()\n",
        "ll.print_LL()"
      ],
      "metadata": {
        "colab": {
          "base_uri": "https://localhost:8080/"
        },
        "id": "83DKMEJF4QFJ",
        "outputId": "1d6f60b6-fbc0-4112-97fe-49ba4d7c1d2c"
      },
      "execution_count": null,
      "outputs": [
        {
          "output_type": "stream",
          "name": "stdout",
          "text": [
            "20\n",
            "30\n"
          ]
        }
      ]
    },
    {
      "cell_type": "markdown",
      "source": [
        "# Delete the last node of the linked list"
      ],
      "metadata": {
        "id": "XrI2bbLE8jWB"
      }
    },
    {
      "cell_type": "code",
      "source": [
        "class LinkedList:\n",
        "  def __init__(self):\n",
        "    self.head = None\n",
        "\n",
        "  # for traversing through and printing the nodes\n",
        "  def print_LL(self):\n",
        "    if self.head==None:\n",
        "      # the if-statement is required if you want a message to show up when the user wants to print the linked list while it is empty. Otherwise, only the statements under the else condition will suffice.\n",
        "      print(\"Linked list is empty\")\n",
        "    else:\n",
        "      n = self.head\n",
        "      while n!=None:\n",
        "        print(n.data)\n",
        "        n = n.next\n",
        "\n",
        "  # for adding a new element at the end of the linked list\n",
        "  def add_end(self,data):\n",
        "    new_node = Node(data)\n",
        "    if self.head==None:\n",
        "      self.head = new_node\n",
        "    else:\n",
        "      n = self.head\n",
        "      while n.next!=None:\n",
        "        n = n.next # traverse through the list until the last element is reached\n",
        "      n.next = new_node\n",
        "\n",
        "  # for deleting tail\n",
        "  def delete_tail(self):\n",
        "    if self.head==None:\n",
        "      print(\"Linked list is empty\")\n",
        "    elif self.head.next==None:\n",
        "      self.head = None\n",
        "    else:\n",
        "      n = self.head\n",
        "      while n.next.next!=None:\n",
        "        n = n.next\n",
        "      n.next = None"
      ],
      "metadata": {
        "id": "jNknFL4B8myY"
      },
      "execution_count": null,
      "outputs": []
    },
    {
      "cell_type": "code",
      "source": [
        "ll=LinkedList()\n",
        "ll.add_end(10)\n",
        "ll.add_end(20)\n",
        "ll.add_end(30)\n",
        "ll.delete_tail()\n",
        "ll.print_LL()"
      ],
      "metadata": {
        "colab": {
          "base_uri": "https://localhost:8080/"
        },
        "id": "KVKoIVCKBC84",
        "outputId": "1e842db6-0366-44c3-a4a2-c551e48b4d29"
      },
      "execution_count": null,
      "outputs": [
        {
          "output_type": "stream",
          "name": "stdout",
          "text": [
            "10\n",
            "20\n"
          ]
        }
      ]
    },
    {
      "cell_type": "markdown",
      "source": [
        "# Delete any node by value in linked list\n",
        "In the procedure described below, the algorithm is: reach the node before the desired node, then change the reference of that node to the reference of the node next to the desired node."
      ],
      "metadata": {
        "id": "dX-_OR2JKbAr"
      }
    },
    {
      "cell_type": "code",
      "source": [
        "class LinkedList:\n",
        "  def __init__(self):\n",
        "    self.head = None\n",
        "\n",
        "  # for traversing through and printing the nodes\n",
        "  def print_LL(self):\n",
        "    if self.head==None:\n",
        "      # the if-statement is required if you want a message to show up when the user wants to print the linked list while it is empty. Otherwise, only the statements under the else condition will suffice.\n",
        "      print(\"Linked list is empty\")\n",
        "    else:\n",
        "      n = self.head\n",
        "      while n!=None:\n",
        "        print(n.data)\n",
        "        n = n.next\n",
        "\n",
        "  # for adding a new element at the end of the linked list\n",
        "  def add_end(self,data):\n",
        "    new_node = Node(data)\n",
        "    if self.head==None:\n",
        "      self.head = new_node\n",
        "    else:\n",
        "      n = self.head\n",
        "      while n.next!=None:\n",
        "        n = n.next # traverse through the list until the last element is reached\n",
        "      n.next = new_node\n",
        "\n",
        "  # for deleting node\n",
        "  def delete_node(self,data):\n",
        "    if self.head==None:\n",
        "      print(\"Linked list is empty\")\n",
        "    elif self.head.data==data:\n",
        "      self.head = self.head.next\n",
        "    else:\n",
        "      n = self.head\n",
        "      while n.next.next!=None:\n",
        "        if n.next.data==data:\n",
        "          break\n",
        "        n = n.next\n",
        "      if n.next.next==None:\n",
        "        print(\"Element not found\")\n",
        "      else:\n",
        "        n.next=n.next.next"
      ],
      "metadata": {
        "id": "187y1baoKemj"
      },
      "execution_count": 2,
      "outputs": []
    },
    {
      "cell_type": "code",
      "source": [
        "ll=LinkedList()\n",
        "ll.add_end(10)\n",
        "ll.add_end(20)\n",
        "ll.add_end(30)\n",
        "ll.delete_node(10)\n",
        "ll.delete_node(50)\n",
        "ll.print_LL()"
      ],
      "metadata": {
        "colab": {
          "base_uri": "https://localhost:8080/"
        },
        "id": "khkisn_dbJeO",
        "outputId": "1dc72fd6-6144-4f85-a4fd-5ce1a5d4f292"
      },
      "execution_count": 6,
      "outputs": [
        {
          "output_type": "stream",
          "name": "stdout",
          "text": [
            "Element not found\n",
            "20\n",
            "30\n"
          ]
        }
      ]
    },
    {
      "cell_type": "markdown",
      "source": [
        "I, by myself, have created another algorithm. My algorithm is: reach the desired node, then modify its data and reference."
      ],
      "metadata": {
        "id": "1HMPW7HGbsCk"
      }
    },
    {
      "cell_type": "code",
      "source": [
        "class LinkedList:\n",
        "  def __init__(self):\n",
        "    self.head = None\n",
        "\n",
        "  # for traversing through and printing the nodes\n",
        "  def print_LL(self):\n",
        "    if self.head==None:\n",
        "      # the if-statement is required if you want a message to show up when the user wants to print the linked list while it is empty. Otherwise, only the statements under the else condition will suffice.\n",
        "      print(\"Linked list is empty\")\n",
        "    else:\n",
        "      n = self.head\n",
        "      while n!=None:\n",
        "        print(n.data)\n",
        "        n = n.next\n",
        "\n",
        "  # for adding a new element at the end of the linked list\n",
        "  def add_end(self,data):\n",
        "    new_node = Node(data)\n",
        "    if self.head==None:\n",
        "      self.head = new_node\n",
        "    else:\n",
        "      n = self.head\n",
        "      while n.next!=None:\n",
        "        n = n.next # traverse through the list until the last element is reached\n",
        "      n.next = new_node\n",
        "\n",
        "  # for deleting node\n",
        "  def delete_node(self,data):\n",
        "    if self.head==None:\n",
        "      print(\"Linked list is empty\")\n",
        "    else:\n",
        "      n = self.head\n",
        "      while n!=None:\n",
        "        if n.data==data:\n",
        "          break\n",
        "        n = n.next\n",
        "      if n==None:\n",
        "        print(\"Element not found\")\n",
        "      else:\n",
        "        n.data = n.next.data\n",
        "        n.next=n.next.next"
      ],
      "metadata": {
        "id": "kkzwP43JbrxV"
      },
      "execution_count": 7,
      "outputs": []
    },
    {
      "cell_type": "code",
      "source": [
        "ll=LinkedList()\n",
        "ll.add_end(10)\n",
        "ll.add_end(20)\n",
        "ll.add_end(30)\n",
        "ll.delete_node(20)\n",
        "ll.delete_node(50)\n",
        "ll.print_LL()"
      ],
      "metadata": {
        "colab": {
          "base_uri": "https://localhost:8080/"
        },
        "id": "UcjlowuAcNt-",
        "outputId": "38ff8393-5291-4b25-c96d-2d684794e087"
      },
      "execution_count": 10,
      "outputs": [
        {
          "output_type": "stream",
          "name": "stdout",
          "text": [
            "Element not found\n",
            "10\n",
            "30\n"
          ]
        }
      ]
    }
  ]
}