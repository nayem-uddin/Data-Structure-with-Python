{
  "nbformat": 4,
  "nbformat_minor": 0,
  "metadata": {
    "colab": {
      "provenance": [],
      "authorship_tag": "ABX9TyMpnno73NHjnJvyzXFXOj2y",
      "include_colab_link": true
    },
    "kernelspec": {
      "name": "python3",
      "display_name": "Python 3"
    },
    "language_info": {
      "name": "python"
    }
  },
  "cells": [
    {
      "cell_type": "markdown",
      "metadata": {
        "id": "view-in-github",
        "colab_type": "text"
      },
      "source": [
        "<a href=\"https://colab.research.google.com/github/nayem-uddin/Data-Structure-with-Python/blob/main/Singly_Linked_List.ipynb\" target=\"_parent\"><img src=\"https://colab.research.google.com/assets/colab-badge.svg\" alt=\"Open In Colab\"/></a>"
      ]
    },
    {
      "cell_type": "markdown",
      "source": [
        "How to create a singly linked list:\n",
        "1. Create a class for the nodes."
      ],
      "metadata": {
        "id": "285dCLHuQkYd"
      }
    },
    {
      "cell_type": "code",
      "execution_count": null,
      "metadata": {
        "id": "sKsIodI6QXx4"
      },
      "outputs": [],
      "source": [
        "class Node:\n",
        "  def __init__(self,data):\n",
        "    self.data = data\n",
        "    self.next = None"
      ]
    },
    {
      "cell_type": "markdown",
      "source": [
        "2. Create a class for chaining the nodes, i.e. for the whole linked list. <br>\n"
      ],
      "metadata": {
        "id": "QgjpSpobQ3gm"
      }
    },
    {
      "cell_type": "markdown",
      "source": [
        "The following code is for traversal only. Just traverse and print."
      ],
      "metadata": {
        "id": "A4MY5LJERN8O"
      }
    },
    {
      "cell_type": "code",
      "source": [
        "class LinkedList:\n",
        "  def __init__(self):\n",
        "    self.head = None\n",
        "  def print_LL(self):\n",
        "    if self.head==None:\n",
        "      print(\"Linked list is empty\")\n",
        "    else:\n",
        "      n = self.head # this is optional, just to ease the task; using self.head directly without assigning it to any other variable is also OK\n",
        "      while n!=None:\n",
        "        print(n.data)\n",
        "        n = n.next"
      ],
      "metadata": {
        "id": "l1yp9msKQ0zv"
      },
      "execution_count": null,
      "outputs": []
    },
    {
      "cell_type": "markdown",
      "source": [
        "To add a new element at the beginning of the linked list, we can execute the following steps:"
      ],
      "metadata": {
        "id": "QOzihX_0RDYW"
      }
    },
    {
      "cell_type": "code",
      "source": [
        "class LinkedList:\n",
        "  def __init__(self):\n",
        "    self.head = None\n",
        "\n",
        "  # for traversing through and printing the nodes\n",
        "  def print_LL(self):\n",
        "    if self.head==None:\n",
        "      # the if-statement is required if you want a message to show up when the user wants to print the linked list while it is empty. Otherwise, only the statements under the else condition will suffice.\n",
        "      print(\"Linked list is empty\")\n",
        "    else:\n",
        "      n = self.head\n",
        "      while n!=None:\n",
        "        print(n.data)\n",
        "        n = n.next\n",
        "\n",
        "  # for adding a new element at the beginning of the linked list\n",
        "  def add_begin(self,data):\n",
        "    new_node = Node(data) # creating the new node to insert at the beginning\n",
        "    new_node.next=self.head # changing the reference of the new node to the reference of the first node (the then \"head\") of the original linked list\n",
        "    self.head = new_node # changing the head value to the value of the new node, as the new node is the first node (head) now\n"
      ],
      "metadata": {
        "id": "XHiRvGl1REDN"
      },
      "execution_count": null,
      "outputs": []
    },
    {
      "cell_type": "code",
      "source": [
        "ll=LinkedList()\n",
        "ll.add_begin(10)\n",
        "ll.add_begin(20)\n",
        "ll.add_begin(30)\n",
        "ll.print_LL()"
      ],
      "metadata": {
        "colab": {
          "base_uri": "https://localhost:8080/"
        },
        "id": "bUX3VFGYRGKG",
        "outputId": "74374963-a849-44e4-bbf5-38f61925b1f4"
      },
      "execution_count": null,
      "outputs": [
        {
          "output_type": "stream",
          "name": "stdout",
          "text": [
            "30\n",
            "20\n",
            "10\n"
          ]
        }
      ]
    },
    {
      "cell_type": "markdown",
      "source": [
        "The following code is to add a new node at the end of the linked list. Note that the following code will contain the other parts as well."
      ],
      "metadata": {
        "id": "g7PAe-oV9GQ-"
      }
    },
    {
      "cell_type": "code",
      "source": [
        "class LinkedList:\n",
        "  def __init__(self):\n",
        "    self.head = None\n",
        "\n",
        "  # for traversing through and printing the nodes\n",
        "  def print_LL(self):\n",
        "    if self.head==None:\n",
        "      # the if-statement is required if you want a message to show up when the user wants to print the linked list while it is empty. Otherwise, only the statements under the else condition will suffice.\n",
        "      print(\"Linked list is empty\")\n",
        "    else:\n",
        "      n = self.head\n",
        "      while n!=None:\n",
        "        print(n.data)\n",
        "        n = n.next\n",
        "\n",
        "  # for adding a new element at the beginning of the linked list\n",
        "  def add_begin(self,data):\n",
        "    new_node = Node(data) # creating the new node to insert at the beginning\n",
        "    new_node.next=self.head # changing the reference of the new node to the reference of the first node (the then \"head\") of the original linked list\n",
        "    self.head = new_node # changing the head value to the value of the new node, as the new node is the first node (head) now\n",
        "\n",
        "  # for adding a new element at the end of the linked list\n",
        "  def add_end(self,data):\n",
        "    new_node = Node(data)\n",
        "    if self.head==None:\n",
        "      self.head = new_node\n",
        "    else:\n",
        "      n = self.head\n",
        "      while n.next!=None:\n",
        "        n = n.next # traverse through the list until the last element is reached\n",
        "      n.next = new_node"
      ],
      "metadata": {
        "id": "liGUYb2bSngO"
      },
      "execution_count": null,
      "outputs": []
    },
    {
      "cell_type": "code",
      "source": [
        "ll=LinkedList()\n",
        "ll.add_end(10)\n",
        "ll.add_end(20)\n",
        "ll.add_end(30)\n",
        "ll.print_LL()"
      ],
      "metadata": {
        "colab": {
          "base_uri": "https://localhost:8080/"
        },
        "id": "CLYdP1_KA3cX",
        "outputId": "3ca62565-6f66-4fa9-a96d-6f21b65b6b92"
      },
      "execution_count": null,
      "outputs": [
        {
          "output_type": "stream",
          "name": "stdout",
          "text": [
            "10\n",
            "20\n",
            "30\n"
          ]
        }
      ]
    }
  ]
}