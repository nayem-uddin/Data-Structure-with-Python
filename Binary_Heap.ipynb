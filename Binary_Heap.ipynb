{
  "nbformat": 4,
  "nbformat_minor": 0,
  "metadata": {
    "colab": {
      "provenance": [],
      "authorship_tag": "ABX9TyORJtICQ8zWfK34XLntbMrP",
      "include_colab_link": true
    },
    "kernelspec": {
      "name": "python3",
      "display_name": "Python 3"
    },
    "language_info": {
      "name": "python"
    }
  },
  "cells": [
    {
      "cell_type": "markdown",
      "metadata": {
        "id": "view-in-github",
        "colab_type": "text"
      },
      "source": [
        "<a href=\"https://colab.research.google.com/github/nayem-uddin/Data-Structure-with-Python/blob/main/Binary_Heap.ipynb\" target=\"_parent\"><img src=\"https://colab.research.google.com/assets/colab-badge.svg\" alt=\"Open In Colab\"/></a>"
      ]
    },
    {
      "cell_type": "markdown",
      "source": [
        "####**Binary Heap Operations**\n",
        "\n",
        "\n",
        "1. `Heapify:` A process to re-arrange the nodes of a complete binary tree to maintain the heap property (creating a binary heap from a completer binary tree)<br>\n",
        "  - Heapify operations are of 2 types:\n",
        "      1. Heapify up: Bottom to top approach (from leaf node to root node)\n",
        "      2. Heapify down: Top down approach (root to leaf)\n",
        "  - Heapify is performed when a new node is inserted, a node is deleted or a tree is re-arranged to form a heap tree.\n",
        "\n",
        "\n"
      ],
      "metadata": {
        "id": "EuAMAiy1l-Xh"
      }
    },
    {
      "cell_type": "markdown",
      "source": [
        "Formula to find the parent of a node: (i+1)//2\n",
        "Formula to find the left child of a node: i*2+1\n",
        "Formula to find the right child of a node: i*2+2"
      ],
      "metadata": {
        "id": "UVIPf8EkZtF8"
      }
    },
    {
      "cell_type": "code",
      "execution_count": 10,
      "metadata": {
        "id": "pRjuQ5cPl7lI",
        "colab": {
          "base_uri": "https://localhost:8080/"
        },
        "outputId": "acc563a7-8558-4d0b-976d-59a3ec3f9301"
      },
      "outputs": [
        {
          "output_type": "stream",
          "name": "stdout",
          "text": [
            "[10]\n",
            "[1, 10]\n",
            "[1, 10, 5]\n"
          ]
        }
      ],
      "source": [
        "import heapq # heapq module follows min-heap property\n",
        "heap=[]\n",
        "heapq.heappush(heap,10)\n",
        "print(heap)\n",
        "heapq.heappush(heap,1)\n",
        "print(heap)\n",
        "heapq.heappush(heap,5)\n",
        "print(heap)"
      ]
    },
    {
      "cell_type": "code",
      "source": [
        "x=heapq.heappop(heap) # removes and returns the minimum value of the heap maintaining the heap property\n",
        "print(x)\n",
        "print(heap)"
      ],
      "metadata": {
        "colab": {
          "base_uri": "https://localhost:8080/"
        },
        "id": "-UTNfRMlbBc9",
        "outputId": "981129d6-02f7-40f9-de16-967590782cf2"
      },
      "execution_count": 11,
      "outputs": [
        {
          "output_type": "stream",
          "name": "stdout",
          "text": [
            "1\n",
            "[5, 10]\n"
          ]
        }
      ]
    },
    {
      "cell_type": "code",
      "source": [
        "# the heapify function heapifies an iterable\n",
        "heap2=list([1,4,5,2,7,3,9])\n",
        "heapq.heapify(heap2)\n",
        "print(heap2)"
      ],
      "metadata": {
        "colab": {
          "base_uri": "https://localhost:8080/"
        },
        "id": "KVAtsER0cB3O",
        "outputId": "80daa960-9a3d-4c4e-e9ab-c69e169f7a6f"
      },
      "execution_count": 16,
      "outputs": [
        {
          "output_type": "stream",
          "name": "stdout",
          "text": [
            "[1, 2, 3, 4, 7, 5, 9]\n"
          ]
        }
      ]
    },
    {
      "cell_type": "code",
      "source": [
        "v=heapq.heappushpop(heap2,10) # inserts the given item, then removes and returns the smallest item maintaining the heap property\n",
        "print(v)\n",
        "print(heap2)"
      ],
      "metadata": {
        "colab": {
          "base_uri": "https://localhost:8080/"
        },
        "id": "qXz_jajpczw2",
        "outputId": "749463d3-24ee-45dd-9fee-4678e5e07ff1"
      },
      "execution_count": 17,
      "outputs": [
        {
          "output_type": "stream",
          "name": "stdout",
          "text": [
            "1\n",
            "[2, 4, 3, 10, 7, 5, 9]\n"
          ]
        }
      ]
    },
    {
      "cell_type": "code",
      "source": [
        "l=heapq.heapreplace(heap2,11) # first pops, then pushes\n",
        "print(l)\n",
        "print(heap2)"
      ],
      "metadata": {
        "colab": {
          "base_uri": "https://localhost:8080/"
        },
        "id": "433FyuHFdfz-",
        "outputId": "cba541bb-e6d2-42e7-ecdf-f43a87e8171c"
      },
      "execution_count": 18,
      "outputs": [
        {
          "output_type": "stream",
          "name": "stdout",
          "text": [
            "2\n",
            "[3, 4, 5, 10, 7, 11, 9]\n"
          ]
        }
      ]
    },
    {
      "cell_type": "code",
      "source": [
        "# to find n smallest number from a heap tree, use nsmallest\n",
        "heapq.nsmallest(2,heap2) # 2 smallest numbers of heap2"
      ],
      "metadata": {
        "colab": {
          "base_uri": "https://localhost:8080/"
        },
        "id": "KGvU-yP7mwpc",
        "outputId": "2432b92d-3d17-4fad-cb57-c02696e6feed"
      },
      "execution_count": 19,
      "outputs": [
        {
          "output_type": "execute_result",
          "data": {
            "text/plain": [
              "[3, 4]"
            ]
          },
          "metadata": {},
          "execution_count": 19
        }
      ]
    },
    {
      "cell_type": "code",
      "source": [
        "# to find n largest number from a heap tree, use nlargest\n",
        "heapq.nlargest(2,heap2) # 2 smallest numbers of heap2"
      ],
      "metadata": {
        "colab": {
          "base_uri": "https://localhost:8080/"
        },
        "id": "TtwqGq8osO1n",
        "outputId": "8fe89c06-dc19-472a-aa0c-860c7c6615a4"
      },
      "execution_count": 20,
      "outputs": [
        {
          "output_type": "execute_result",
          "data": {
            "text/plain": [
              "[11, 10]"
            ]
          },
          "metadata": {},
          "execution_count": 20
        }
      ]
    },
    {
      "cell_type": "code",
      "source": [
        "list1=[(4,'a'),(1,'d'),(3,'c')]\n",
        "heapq.heapify(list1)\n",
        "print(list1)"
      ],
      "metadata": {
        "colab": {
          "base_uri": "https://localhost:8080/"
        },
        "id": "gp_lBIi5skr1",
        "outputId": "4a582b1a-1971-4408-e706-0892b79dd45f"
      },
      "execution_count": 23,
      "outputs": [
        {
          "output_type": "stream",
          "name": "stdout",
          "text": [
            "[(1, 'd'), (4, 'a'), (3, 'c')]\n"
          ]
        }
      ]
    },
    {
      "cell_type": "code",
      "source": [
        "for _ in range(len(list1)):\n",
        "  print(heapq.heappop(list1))"
      ],
      "metadata": {
        "colab": {
          "base_uri": "https://localhost:8080/"
        },
        "id": "w3K2X1M8s-4k",
        "outputId": "44a806dc-eecf-4a55-e948-cd3120a2ce47"
      },
      "execution_count": 24,
      "outputs": [
        {
          "output_type": "stream",
          "name": "stdout",
          "text": [
            "(1, 'd')\n",
            "(3, 'c')\n",
            "(4, 'a')\n"
          ]
        }
      ]
    }
  ]
}