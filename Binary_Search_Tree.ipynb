{
  "nbformat": 4,
  "nbformat_minor": 0,
  "metadata": {
    "colab": {
      "provenance": [],
      "authorship_tag": "ABX9TyO7ddwHY5x7z7suXkYWgBoq",
      "include_colab_link": true
    },
    "kernelspec": {
      "name": "python3",
      "display_name": "Python 3"
    },
    "language_info": {
      "name": "python"
    }
  },
  "cells": [
    {
      "cell_type": "markdown",
      "metadata": {
        "id": "view-in-github",
        "colab_type": "text"
      },
      "source": [
        "<a href=\"https://colab.research.google.com/github/nayem-uddin/Data-Structure-with-Python/blob/main/Binary_Search_Tree.ipynb\" target=\"_parent\"><img src=\"https://colab.research.google.com/assets/colab-badge.svg\" alt=\"Open In Colab\"/></a>"
      ]
    },
    {
      "cell_type": "code",
      "source": [
        "class BST:\n",
        "  def __init__(self,key):\n",
        "    self.key=key\n",
        "    self.left=None\n",
        "    self.right=None\n",
        "\n",
        "  def insert(self,data):\n",
        "    if self.key==None:\n",
        "      self.key=data\n",
        "    elif self.key>=data:\n",
        "      if self.left:\n",
        "        self.left.insert(data)\n",
        "      else:\n",
        "        self.left=BST(data)\n",
        "    else:\n",
        "      if self.right:\n",
        "        self.right.insert(data)\n",
        "      else:\n",
        "        self.right=BST(data)\n",
        "\n",
        "  def search(self,data,level=0):\n",
        "    if self.key==data:\n",
        "      print(\"Node found at level\",level)\n",
        "    elif data<self.key:\n",
        "      if not self.left:\n",
        "        print(\"Node not found\")\n",
        "      else:\n",
        "        self.left.search(data,level+1)\n",
        "    else:\n",
        "      if not self.right:\n",
        "        print(\"Node not found\")\n",
        "      else:\n",
        "        self.right.search(data,level+1)\n",
        "\n",
        "  def preorder(self):\n",
        "    print(self.key,end=' ')\n",
        "    if self.left:\n",
        "      self.left.preorder()\n",
        "    if self.right:\n",
        "      self.right.preorder()\n",
        "\n",
        "  def inorder(self):\n",
        "    if self.left:\n",
        "      self.left.inorder()\n",
        "    print(self.key,end=' ')\n",
        "    if self.right:\n",
        "      self.right.inorder()\n",
        "\n",
        "  def postorder(self):\n",
        "    if self.left:\n",
        "      self.left.postorder()\n",
        "    if self.right:\n",
        "      self.right.postorder()\n",
        "    print(self.key,end=' ')\n",
        "\n",
        "  def delete(self,data,root): # root is the root node of the BST\n",
        "    if count(self)<=1 and data==root:\n",
        "      print(\"Unable to delete\")\n",
        "      return\n",
        "    if self.key==None:\n",
        "      print(\"Tree is empty\")\n",
        "      return\n",
        "    if data<self.key:\n",
        "      if self.left:\n",
        "        self.left=self.left.delete(data,root)\n",
        "      else:\n",
        "        print(\"Given node is not present in the tree\")\n",
        "    elif data>self.key:\n",
        "      if self.right:\n",
        "        self.right=self.right.delete(data,root)\n",
        "      else:\n",
        "        print(\"Given node is not present in the tree\")\n",
        "    else:\n",
        "      if not self.left:\n",
        "        temp=self.right\n",
        "        if data==root: # when we are trying to delete the root node\n",
        "          self.key=temp.key\n",
        "          self.right=temp.right\n",
        "          self.left=temp.left\n",
        "          temp=None\n",
        "          return\n",
        "        self=None\n",
        "        return temp\n",
        "      if not self.right:\n",
        "        temp=self.left\n",
        "        if data==root: # when we are trying to delete the root node\n",
        "          self.key=temp.key\n",
        "          self.right=temp.right\n",
        "          self.left=temp.left\n",
        "          temp=None\n",
        "          return\n",
        "        self=None\n",
        "        return temp\n",
        "      # Here, the  the least value is being taken from the right sub-tree\n",
        "      node=self.right\n",
        "      while node.left:\n",
        "        node=node.left\n",
        "      self.key=node.key\n",
        "      self.right=self.right.delete(node.key,root)\n",
        "    return self\n",
        "\n",
        "  def min_node(self):\n",
        "    current=self\n",
        "    while current.left:\n",
        "      current=current.left\n",
        "    print(\"The minimum value in the tree is:\",current.key)\n",
        "\n",
        "  def max_node(self):\n",
        "    current=self\n",
        "    while current.right:\n",
        "      current=current.right\n",
        "    print(\"The maximum value in the tree is:\",current.key)"
      ],
      "metadata": {
        "id": "Bq_0yZ0EK-JH"
      },
      "execution_count": 1,
      "outputs": []
    },
    {
      "cell_type": "code",
      "source": [
        "def count(node):\n",
        "  # to count the no. of nodes in the tree\n",
        "  if not node:\n",
        "    return 0\n",
        "  return 1+count(node.left)+count(node.right)"
      ],
      "metadata": {
        "id": "Ai7LEautBMnM"
      },
      "execution_count": null,
      "outputs": []
    },
    {
      "cell_type": "code",
      "source": [
        "tree=BST(10)\n",
        "[tree.insert(i) for i in [6,3,98,7,1]]"
      ],
      "metadata": {
        "id": "zGXOQxlYLDud",
        "colab": {
          "base_uri": "https://localhost:8080/"
        },
        "outputId": "6e51cc10-2458-4f74-94da-6f93113e34cb"
      },
      "execution_count": 2,
      "outputs": [
        {
          "output_type": "execute_result",
          "data": {
            "text/plain": [
              "[None, None, None, None, None]"
            ]
          },
          "metadata": {},
          "execution_count": 2
        }
      ]
    },
    {
      "cell_type": "code",
      "source": [
        "tree.search(3)\n",
        "tree.search(11)"
      ],
      "metadata": {
        "colab": {
          "base_uri": "https://localhost:8080/"
        },
        "id": "0LACZqc37ikB",
        "outputId": "12fae7f9-53f5-4c3e-dea4-bfe47bc9f8c4"
      },
      "execution_count": null,
      "outputs": [
        {
          "output_type": "stream",
          "name": "stdout",
          "text": [
            "Node found at level 2\n",
            "Node not found\n"
          ]
        }
      ]
    },
    {
      "cell_type": "code",
      "source": [
        "tree.preorder()"
      ],
      "metadata": {
        "id": "OS93U5k3LOjd",
        "colab": {
          "base_uri": "https://localhost:8080/"
        },
        "outputId": "1c677c8a-cc38-4cdd-bd2a-36493682d5e3"
      },
      "execution_count": null,
      "outputs": [
        {
          "output_type": "stream",
          "name": "stdout",
          "text": [
            "10 6 3 1 7 98 "
          ]
        }
      ]
    },
    {
      "cell_type": "code",
      "source": [
        "tree.inorder()"
      ],
      "metadata": {
        "id": "nSRoPzF36-Dv",
        "colab": {
          "base_uri": "https://localhost:8080/"
        },
        "outputId": "c091214a-9d26-4152-c528-72e75eef750e"
      },
      "execution_count": null,
      "outputs": [
        {
          "output_type": "stream",
          "name": "stdout",
          "text": [
            "1 3 6 7 10 98 "
          ]
        }
      ]
    },
    {
      "cell_type": "code",
      "source": [
        "tree.postorder()"
      ],
      "metadata": {
        "id": "bmq6cquSORIv",
        "outputId": "8118e642-0b0a-4852-b848-e1d1bcc1b592",
        "colab": {
          "base_uri": "https://localhost:8080/"
        }
      },
      "execution_count": null,
      "outputs": [
        {
          "output_type": "stream",
          "name": "stdout",
          "text": [
            "1 3 7 6 98 10 "
          ]
        }
      ]
    },
    {
      "cell_type": "code",
      "source": [
        "tree.delete(10)\n",
        "tree.postorder()"
      ],
      "metadata": {
        "colab": {
          "base_uri": "https://localhost:8080/"
        },
        "id": "9g3kcUOA_S0N",
        "outputId": "4b70aa7b-9fd4-4036-a237-8ef2dffb359c"
      },
      "execution_count": null,
      "outputs": [
        {
          "output_type": "stream",
          "name": "stdout",
          "text": [
            "1 3 7 6 98 "
          ]
        }
      ]
    },
    {
      "cell_type": "code",
      "source": [
        "print(count(tree))"
      ],
      "metadata": {
        "colab": {
          "base_uri": "https://localhost:8080/"
        },
        "id": "6TeaY_VeBmEW",
        "outputId": "0a64e521-b8a2-4d18-b684-9b002273f32e"
      },
      "execution_count": null,
      "outputs": [
        {
          "output_type": "stream",
          "name": "stdout",
          "text": [
            "6\n"
          ]
        }
      ]
    },
    {
      "cell_type": "code",
      "source": [
        "tree2=BST(98)\n",
        "# tree2.insert(100)\n",
        "# tree2.insert(10)\n",
        "tree2.postorder()"
      ],
      "metadata": {
        "colab": {
          "base_uri": "https://localhost:8080/"
        },
        "id": "bSLIynugI3FK",
        "outputId": "aab9a934-f603-458f-eed6-0f59a3ca1ec1"
      },
      "execution_count": null,
      "outputs": [
        {
          "output_type": "stream",
          "name": "stdout",
          "text": [
            "98 "
          ]
        }
      ]
    },
    {
      "cell_type": "code",
      "source": [
        "tree2.delete(98,tree2.key)\n",
        "tree2.postorder()"
      ],
      "metadata": {
        "colab": {
          "base_uri": "https://localhost:8080/"
        },
        "id": "tclIyyDVI6NQ",
        "outputId": "f6d21ab2-adc6-4391-d3f8-62c5ad926ea6"
      },
      "execution_count": null,
      "outputs": [
        {
          "output_type": "stream",
          "name": "stdout",
          "text": [
            "Unable to delete\n",
            "98 "
          ]
        }
      ]
    },
    {
      "cell_type": "code",
      "source": [
        "tree.min_node()"
      ],
      "metadata": {
        "id": "Jc4wwRpNI9E3",
        "colab": {
          "base_uri": "https://localhost:8080/"
        },
        "outputId": "662d1dcd-037b-4eee-8546-8b310566e196"
      },
      "execution_count": 3,
      "outputs": [
        {
          "output_type": "stream",
          "name": "stdout",
          "text": [
            "The minimum value in the tree is: 1\n"
          ]
        }
      ]
    },
    {
      "cell_type": "code",
      "source": [
        "tree.max_node()"
      ],
      "metadata": {
        "colab": {
          "base_uri": "https://localhost:8080/"
        },
        "id": "swpCJ4OelBuy",
        "outputId": "79da9530-77f4-41c6-cff8-983cb5969d0f"
      },
      "execution_count": 4,
      "outputs": [
        {
          "output_type": "stream",
          "name": "stdout",
          "text": [
            "The maximum value in the tree is: 98\n"
          ]
        }
      ]
    }
  ]
}